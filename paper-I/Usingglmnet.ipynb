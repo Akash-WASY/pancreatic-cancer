{
 "cells": [
  {
   "cell_type": "code",
<<<<<<< HEAD
   "execution_count": 12,
=======
   "execution_count": 3,
>>>>>>> 7568ad0428e0876a454e81438895ebec4da52dcf
   "id": "b0fd59c2-d3ff-4bec-89c6-1e459b2c080f",
   "metadata": {
    "tags": [],
    "ExecuteTime": {
<<<<<<< HEAD
     "end_time": "2023-12-15T12:34:47.208052800Z",
     "start_time": "2023-12-15T12:34:47.103455Z"
=======
     "end_time": "2023-12-15T08:08:51.568685200Z",
     "start_time": "2023-12-15T08:08:51.225098028Z"
>>>>>>> 7568ad0428e0876a454e81438895ebec4da52dcf
    }
   },
   "outputs": [
    {
     "name": "stderr",
     "output_type": "stream",
     "text": [
<<<<<<< HEAD
      "C:\\Users\\PRANTIK\\AppData\\Local\\Programs\\Python\\Python311\\Lib\\site-packages\\openpyxl\\worksheet\\_reader.py:329: UserWarning: Unknown extension is not supported and will be removed\n",
=======
      "/media/technophilix/New Volume1/research/toread/new/akashbarariya/venv/lib/python3.10/site-packages/openpyxl/worksheet/_reader.py:329: UserWarning: Unknown extension is not supported and will be removed\n",
>>>>>>> 7568ad0428e0876a454e81438895ebec4da52dcf
      "  warn(msg)\n"
     ]
    }
   ],
   "source": [
    "# Import required libraries :\n",
    "import pandas as pd\n",
    "import numpy as np\n",
    "import glmnet_python\n",
    "from glmnet import glmnet\n",
    "import matplotlib.pyplot as plt\n",
    "import scipy, importlib, pprint, matplotlib.pyplot as plt, warnings\n",
    "from glmnet import glmnet; from glmnetPlot import glmnetPlot\n",
    "from glmnetPrint import glmnetPrint; from glmnetCoef import glmnetCoef; from glmnetPredict import glmnetPredict\n",
    "from cvglmnet import cvglmnet; from cvglmnetCoef import cvglmnetCoef\n",
    "from cvglmnetPlot import cvglmnetPlot; from cvglmnetPredict import cvglmnetPredict\n",
    "mtdata = pd.read_excel(\"Mean Methylation Univariate.xlsx\", sheet_name=\"U cox data 2\")"
   ]
  },
  {
   "cell_type": "code",
<<<<<<< HEAD
   "execution_count": 13,
=======
   "execution_count": 4,
>>>>>>> 7568ad0428e0876a454e81438895ebec4da52dcf
   "id": "697fe473-b545-4d60-9df8-40572f76f9b9",
   "metadata": {
    "tags": [],
    "ExecuteTime": {
<<<<<<< HEAD
     "end_time": "2023-12-15T12:34:47.288047600Z",
     "start_time": "2023-12-15T12:34:47.209073500Z"
=======
     "end_time": "2023-12-15T08:09:07.065890882Z",
     "start_time": "2023-12-15T08:09:07.046192268Z"
>>>>>>> 7568ad0428e0876a454e81438895ebec4da52dcf
    }
   },
   "outputs": [],
   "source": [
    "ndf =mtdata.fillna(0).to_numpy()\n",
    "dtd = ndf[:,3]\n",
    "m = np.median(dtd[dtd > 0])\n",
    "dtd[dtd==0]=m\n",
    "np.savetxt('xvalue.dat', ndf[:,4:], fmt = \"%f\", delimiter = ',')\n",
    "np.savetxt('yvalue.dat', list(zip(dtd , ndf[:,2])),  delimiter = ',', newline='\\n' )\n"
   ]
  },
  {
   "cell_type": "code",
<<<<<<< HEAD
   "execution_count": 14,
=======
   "execution_count": 5,
>>>>>>> 7568ad0428e0876a454e81438895ebec4da52dcf
   "id": "fd835df1-2d93-4de5-af14-b4ffbc509a9c",
   "metadata": {
    "tags": [],
    "ExecuteTime": {
<<<<<<< HEAD
     "end_time": "2023-12-15T12:34:47.454822500Z",
     "start_time": "2023-12-15T12:34:47.288047600Z"
=======
     "end_time": "2023-12-15T08:09:09.304180887Z",
     "start_time": "2023-12-15T08:09:09.284578299Z"
>>>>>>> 7568ad0428e0876a454e81438895ebec4da52dcf
    }
   },
   "outputs": [],
   "source": [
    "%matplotlib inline\n",
    "\n",
    "import sys\n",
    "import scipy, importlib, pprint, matplotlib.pyplot as plt, warnings\n",
    "from glmnet_py import glmnet; \n",
    "from glmnetPlot import glmnetPlot \n",
    "from glmnetPrint import glmnetPrint; from glmnetCoef import glmnetCoef; from glmnetPredict import glmnetPredict\n",
    "from cvglmnet import cvglmnet; from cvglmnetCoef import cvglmnetCoef\n",
    "from cvglmnetPlot import cvglmnetPlot; from cvglmnetPredict import cvglmnetPredict"
   ]
  },
  {
   "cell_type": "code",
   "execution_count": 15,
   "id": "1d1eac80-32ae-435d-97cb-c84b875525fc",
   "metadata": {
    "tags": [],
    "ExecuteTime": {
<<<<<<< HEAD
     "end_time": "2023-12-15T12:34:47.660611100Z",
     "start_time": "2023-12-15T12:34:47.456818700Z"
=======
     "start_time": "2023-12-15T08:07:39.596769401Z"
>>>>>>> 7568ad0428e0876a454e81438895ebec4da52dcf
    }
   },
   "outputs": [
    {
     "name": "stderr",
     "output_type": "stream",
     "text": [
      "C:\\Users\\PRANTIK\\AppData\\Local\\Temp\\ipykernel_19068\\1683692930.py:1: DeprecationWarning: scipy.loadtxt is deprecated and will be removed in SciPy 2.0.0, use numpy.loadtxt instead\n",
      "  x = scipy.loadtxt( 'xvalue.dat', dtype = scipy.float64, delimiter = ',')\n",
      "C:\\Users\\PRANTIK\\AppData\\Local\\Temp\\ipykernel_19068\\1683692930.py:2: DeprecationWarning: scipy.loadtxt is deprecated and will be removed in SciPy 2.0.0, use numpy.loadtxt instead\n",
      "  y = scipy.loadtxt('yvalue.dat', dtype = scipy.float64, delimiter = ',')\n"
     ]
    }
   ],
   "source": [
    "x = scipy.loadtxt( 'xvalue.dat', dtype = scipy.float64, delimiter = ',')\n",
    "y = scipy.loadtxt('yvalue.dat', dtype = scipy.float64, delimiter = ',')"
   ]
  },
  {
   "cell_type": "code",
   "execution_count": 16,
   "id": "f0149f2a-853f-42fc-9f41-75e5372fb699",
   "metadata": {
    "tags": [],
    "ExecuteTime": {
<<<<<<< HEAD
     "end_time": "2023-12-15T12:34:48.058438100Z",
     "start_time": "2023-12-15T12:34:47.660611100Z"
=======
     "start_time": "2023-12-15T08:07:39.597041808Z"
>>>>>>> 7568ad0428e0876a454e81438895ebec4da52dcf
    }
   },
   "outputs": [
    {
     "ename": "ValueError",
     "evalue": "loadGlmlib does not currently work for windows",
     "output_type": "error",
     "traceback": [
      "\u001B[1;31m---------------------------------------------------------------------------\u001B[0m",
      "\u001B[1;31mValueError\u001B[0m                                Traceback (most recent call last)",
      "Cell \u001B[1;32mIn[16], line 1\u001B[0m\n\u001B[1;32m----> 1\u001B[0m fit \u001B[38;5;241m=\u001B[39m \u001B[43mglmnet\u001B[49m\u001B[43m(\u001B[49m\u001B[43mx\u001B[49m\u001B[43m \u001B[49m\u001B[38;5;241;43m=\u001B[39;49m\u001B[43m \u001B[49m\u001B[43mx\u001B[49m\u001B[38;5;241;43m.\u001B[39;49m\u001B[43mcopy\u001B[49m\u001B[43m(\u001B[49m\u001B[43m)\u001B[49m\u001B[43m,\u001B[49m\u001B[43m \u001B[49m\u001B[43my\u001B[49m\u001B[43m \u001B[49m\u001B[38;5;241;43m=\u001B[39;49m\u001B[43m \u001B[49m\u001B[43my\u001B[49m\u001B[38;5;241;43m.\u001B[39;49m\u001B[43mcopy\u001B[49m\u001B[43m(\u001B[49m\u001B[43m)\u001B[49m\u001B[43m,\u001B[49m\u001B[43m \u001B[49m\u001B[43mfamily\u001B[49m\u001B[43m \u001B[49m\u001B[38;5;241;43m=\u001B[39;49m\u001B[43m \u001B[49m\u001B[38;5;124;43m'\u001B[39;49m\u001B[38;5;124;43mgaussian\u001B[39;49m\u001B[38;5;124;43m'\u001B[39;49m\u001B[43m)\u001B[49m\n",
      "File \u001B[1;32m~\\AppData\\Local\\Programs\\Python\\Python311\\Lib\\site-packages\\glmnet_py\\glmnet.py:448\u001B[0m, in \u001B[0;36mglmnet\u001B[1;34m(x, y, family, **options)\u001B[0m\n\u001B[0;32m    445\u001B[0m \u001B[38;5;66;03m## finally call the appropriate fit code\u001B[39;00m\n\u001B[0;32m    446\u001B[0m \u001B[38;5;28;01mif\u001B[39;00m family \u001B[38;5;241m==\u001B[39m \u001B[38;5;124m'\u001B[39m\u001B[38;5;124mgaussian\u001B[39m\u001B[38;5;124m'\u001B[39m:\n\u001B[0;32m    447\u001B[0m     \u001B[38;5;66;03m# call elnet\u001B[39;00m\n\u001B[1;32m--> 448\u001B[0m     fit \u001B[38;5;241m=\u001B[39m \u001B[43melnet\u001B[49m\u001B[43m(\u001B[49m\u001B[43mx\u001B[49m\u001B[43m,\u001B[49m\u001B[43m \u001B[49m\u001B[43mis_sparse\u001B[49m\u001B[43m,\u001B[49m\u001B[43m \u001B[49m\u001B[43mirs\u001B[49m\u001B[43m,\u001B[49m\u001B[43m \u001B[49m\u001B[43mpcs\u001B[49m\u001B[43m,\u001B[49m\u001B[43m \u001B[49m\u001B[43my\u001B[49m\u001B[43m,\u001B[49m\u001B[43m \u001B[49m\u001B[43mweights\u001B[49m\u001B[43m,\u001B[49m\u001B[43m \u001B[49m\u001B[43moffset\u001B[49m\u001B[43m,\u001B[49m\u001B[43m \u001B[49m\u001B[43mgtype\u001B[49m\u001B[43m,\u001B[49m\u001B[43m \u001B[49m\u001B[43mparm\u001B[49m\u001B[43m,\u001B[49m\u001B[43m \u001B[49m\n\u001B[0;32m    449\u001B[0m \u001B[43m                \u001B[49m\u001B[43mlempty\u001B[49m\u001B[43m,\u001B[49m\u001B[43m \u001B[49m\u001B[43mnvars\u001B[49m\u001B[43m,\u001B[49m\u001B[43m \u001B[49m\u001B[43mjd\u001B[49m\u001B[43m,\u001B[49m\u001B[43m \u001B[49m\u001B[43mvp\u001B[49m\u001B[43m,\u001B[49m\u001B[43m \u001B[49m\u001B[43mcl\u001B[49m\u001B[43m,\u001B[49m\u001B[43m \u001B[49m\u001B[43mne\u001B[49m\u001B[43m,\u001B[49m\u001B[43m \u001B[49m\u001B[43mnx\u001B[49m\u001B[43m,\u001B[49m\u001B[43m \u001B[49m\u001B[43mnlam\u001B[49m\u001B[43m,\u001B[49m\u001B[43m \u001B[49m\u001B[43mflmin\u001B[49m\u001B[43m,\u001B[49m\u001B[43m \u001B[49m\u001B[43mulam\u001B[49m\u001B[43m,\u001B[49m\u001B[43m \u001B[49m\n\u001B[0;32m    450\u001B[0m \u001B[43m                \u001B[49m\u001B[43mthresh\u001B[49m\u001B[43m,\u001B[49m\u001B[43m \u001B[49m\u001B[43misd\u001B[49m\u001B[43m,\u001B[49m\u001B[43m \u001B[49m\u001B[43mintr\u001B[49m\u001B[43m,\u001B[49m\u001B[43m \u001B[49m\u001B[43mmaxit\u001B[49m\u001B[43m,\u001B[49m\u001B[43m \u001B[49m\u001B[43mfamily\u001B[49m\u001B[43m)\u001B[49m\n\u001B[0;32m    451\u001B[0m \u001B[38;5;28;01melif\u001B[39;00m (family \u001B[38;5;241m==\u001B[39m \u001B[38;5;124m'\u001B[39m\u001B[38;5;124mbinomial\u001B[39m\u001B[38;5;124m'\u001B[39m) \u001B[38;5;129;01mor\u001B[39;00m (family \u001B[38;5;241m==\u001B[39m \u001B[38;5;124m'\u001B[39m\u001B[38;5;124mmultinomial\u001B[39m\u001B[38;5;124m'\u001B[39m):\n\u001B[0;32m    452\u001B[0m     \u001B[38;5;66;03m# call lognet\u001B[39;00m\n\u001B[0;32m    453\u001B[0m     fit \u001B[38;5;241m=\u001B[39m lognet(x, is_sparse, irs, pcs, y, weights, offset, parm,\n\u001B[0;32m    454\u001B[0m                  nobs, nvars, jd, vp, cl, ne, nx, nlam, flmin, ulam,\n\u001B[0;32m    455\u001B[0m                  thresh, isd, intr, maxit, kopt, family)\n",
      "File \u001B[1;32m~\\AppData\\Local\\Programs\\Python\\Python311\\Lib\\site-packages\\glmnet_python\\elnet.py:17\u001B[0m, in \u001B[0;36melnet\u001B[1;34m(x, is_sparse, irs, pcs, y, weights, offset, gtype, parm, lempty, nvars, jd, vp, cl, ne, nx, nlam, flmin, ulam, thresh, isd, intr, maxit, family)\u001B[0m\n\u001B[0;32m     12\u001B[0m \u001B[38;5;28;01mdef\u001B[39;00m \u001B[38;5;21melnet\u001B[39m(x, is_sparse, irs, pcs, y, weights, offset, gtype, parm, lempty, \n\u001B[0;32m     13\u001B[0m           nvars, jd, vp, cl, ne, nx, nlam, flmin, ulam, thresh, isd, intr, \n\u001B[0;32m     14\u001B[0m           maxit, family):\n\u001B[0;32m     15\u001B[0m \n\u001B[0;32m     16\u001B[0m     \u001B[38;5;66;03m# load shared fortran library\u001B[39;00m\n\u001B[1;32m---> 17\u001B[0m     glmlib \u001B[38;5;241m=\u001B[39m \u001B[43mloadGlmLib\u001B[49m\u001B[43m(\u001B[49m\u001B[43m)\u001B[49m \n\u001B[0;32m     19\u001B[0m     \u001B[38;5;66;03m# pre-process data     \u001B[39;00m\n\u001B[0;32m     20\u001B[0m     ybar \u001B[38;5;241m=\u001B[39m scipy\u001B[38;5;241m.\u001B[39mdot(scipy\u001B[38;5;241m.\u001B[39mtranspose(y), weights)\n",
      "File \u001B[1;32m~\\AppData\\Local\\Programs\\Python\\Python311\\Lib\\site-packages\\glmnet_python\\loadGlmLib.py:28\u001B[0m, in \u001B[0;36mloadGlmLib\u001B[1;34m()\u001B[0m\n\u001B[0;32m     25\u001B[0m     \u001B[38;5;28;01mreturn\u001B[39;00m(glmlib)\n\u001B[0;32m     26\u001B[0m \u001B[38;5;28;01melif\u001B[39;00m os\u001B[38;5;241m.\u001B[39mname \u001B[38;5;241m==\u001B[39m \u001B[38;5;124m'\u001B[39m\u001B[38;5;124mnt\u001B[39m\u001B[38;5;124m'\u001B[39m:\n\u001B[0;32m     27\u001B[0m     \u001B[38;5;66;03m# this does not currently work\u001B[39;00m\n\u001B[1;32m---> 28\u001B[0m     \u001B[38;5;28;01mraise\u001B[39;00m \u001B[38;5;167;01mValueError\u001B[39;00m(\u001B[38;5;124m'\u001B[39m\u001B[38;5;124mloadGlmlib does not currently work for windows\u001B[39m\u001B[38;5;124m'\u001B[39m)\n\u001B[0;32m     29\u001B[0m     \u001B[38;5;66;03m# glmlib = ctypes.windll.LoadLibrary(glmnet_dll)\u001B[39;00m\n\u001B[0;32m     30\u001B[0m \u001B[38;5;28;01melse\u001B[39;00m:\n\u001B[0;32m     31\u001B[0m     \u001B[38;5;28;01mraise\u001B[39;00m \u001B[38;5;167;01mValueError\u001B[39;00m(\u001B[38;5;124m'\u001B[39m\u001B[38;5;124mloadGlmLib not yet implemented for non-posix OS\u001B[39m\u001B[38;5;124m'\u001B[39m)\n",
      "\u001B[1;31mValueError\u001B[0m: loadGlmlib does not currently work for windows"
     ]
    }
   ],
   "source": [
    " fit = glmnet(x = x.copy(), y = y.copy(), family = 'cox')"
   ]
  },
  {
   "cell_type": "code",
   "execution_count": null,
   "id": "2fe4e6fd-fe46-4e9e-94f2-7c88a00b3d9d",
   "metadata": {
    "tags": [],
    "ExecuteTime": {
     "start_time": "2023-12-15T08:07:39.597261659Z"
    }
   },
   "outputs": [],
   "source": [
    "glmnetPlot(fit);"
   ]
  },
  {
   "cell_type": "code",
   "execution_count": null,
   "id": "b220c54b-f942-4d6d-9d19-6cac2d827815",
   "metadata": {
    "tags": [],
    "ExecuteTime": {
     "start_time": "2023-12-15T08:07:39.597445222Z"
    }
   },
   "outputs": [],
   "source": [
    "import seaborn as sns\n",
    "import matplotlib.pyplot as plt\n",
    "fig, ax = plt.subplots()\n",
    "\n",
    "sns.boxplot(x = fit['lambdau'], y = fit['beta'][0], ax = ax)\n",
    "sns.stripplot(x = fit['lambdau'], y = fit['beta'][0], jitter = 0.2, color = 'red', ax = ax)\n",
    "plt.xscale('log')\n",
    "plt.xlabel('log(λ)')\n",
    "plt.ylabel('C-Index')\n",
    "plt.title('Coefficient Paths')\n",
    "plt.show()\n",
    "\n",
    "# Plot heatmap of coefficients\n",
    "sns.heatmap(fit['beta'], cmap='coolwarm', xticklabels=False, yticklabels=False)\n",
    "plt.xlabel('Features')\n",
    "plt.ylabel('Lambdas')\n",
    "plt.title('Coefficient Heatmap')\n",
    "plt.show()\n"
   ]
  },
  {
   "cell_type": "code",
   "execution_count": null,
   "id": "193845a1-612c-4e6f-8837-18b8138ba067",
   "metadata": {
    "tags": [],
    "ExecuteTime": {
     "start_time": "2023-12-15T08:07:39.597572539Z"
    }
   },
   "outputs": [],
   "source": [
    "fit"
   ]
  },
  {
   "cell_type": "code",
   "execution_count": null,
   "id": "2b8d627e-77dd-46b0-9bf5-0b3afb483c2d",
   "metadata": {
    "tags": [],
    "ExecuteTime": {
     "start_time": "2023-12-15T08:07:39.597865982Z"
    }
   },
   "outputs": [],
   "source": [
    "np.log(fit['lambdau'])"
   ]
  },
  {
   "cell_type": "code",
   "execution_count": null,
   "id": "761eedc7-8789-4563-add7-ca6e3930b6d0",
   "metadata": {
    "tags": [],
    "ExecuteTime": {
     "start_time": "2023-12-15T08:07:39.598032811Z"
    }
   },
   "outputs": [],
   "source": [
    "# Plot pairplot of coefficients\n",
    "sns.pairplot(pd.DataFrame(fit['beta']), diag_kind='hist', corner=True)\n",
    "plt.suptitle('Coefficient Pairplot', y=1.05)\n",
    "plt.show()"
   ]
  },
  {
   "cell_type": "code",
   "execution_count": null,
   "id": "ed8b4bab-b68a-49cb-a21f-e4b99ba7194f",
   "metadata": {
    "tags": [],
    "ExecuteTime": {
     "start_time": "2023-12-15T08:07:39.598155288Z"
    }
   },
   "outputs": [],
   "source": [
    "sns.heatmap(fit['beta']*(0.5), cmap='crest', xticklabels=False, yticklabels=False)\n",
    "plt.xlabel('Features')\n",
    "plt.ylabel('Lambdas')\n",
    "plt.title('Coefficient Heatmap')\n",
    "plt.show()"
   ]
  },
  {
   "cell_type": "code",
   "execution_count": null,
   "id": "d32e8767-332f-47d3-a21b-38da333f4fcb",
   "metadata": {
    "ExecuteTime": {
     "start_time": "2023-12-15T08:07:39.598416410Z"
    }
   },
   "outputs": [],
   "source": []
  }
 ],
 "metadata": {
  "kernelspec": {
   "display_name": "Python 3 (ipykernel)",
   "language": "python",
   "name": "python3"
  },
  "language_info": {
   "codemirror_mode": {
    "name": "ipython",
    "version": 3
   },
   "file_extension": ".py",
   "mimetype": "text/x-python",
   "name": "python",
   "nbconvert_exporter": "python",
   "pygments_lexer": "ipython3",
   "version": "3.10.8"
  }
 },
 "nbformat": 4,
 "nbformat_minor": 5
}
