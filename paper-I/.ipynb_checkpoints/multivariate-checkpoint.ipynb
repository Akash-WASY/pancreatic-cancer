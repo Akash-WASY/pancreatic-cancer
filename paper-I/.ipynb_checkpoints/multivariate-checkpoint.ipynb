{
 "cells": [
  {
   "cell_type": "code",
   "execution_count": 2,
   "id": "4b16a5ab-d575-45bf-8ee0-7d1ef50b27d7",
   "metadata": {},
   "outputs": [
    {
     "data": {
      "text/html": [
       "<div>\n",
       "<style scoped>\n",
       "    .dataframe tbody tr th:only-of-type {\n",
       "        vertical-align: middle;\n",
       "    }\n",
       "\n",
       "    .dataframe tbody tr th {\n",
       "        vertical-align: top;\n",
       "    }\n",
       "\n",
       "    .dataframe thead th {\n",
       "        text-align: right;\n",
       "    }\n",
       "</style>\n",
       "<table border=\"1\" class=\"dataframe\">\n",
       "  <thead>\n",
       "    <tr style=\"text-align: right;\">\n",
       "      <th></th>\n",
       "      <th>probe_id methylation_value metric_used methylated_probe_intensity unmethylated_probe_intensity verification_platform</th>\n",
       "    </tr>\n",
       "  </thead>\n",
       "  <tbody>\n",
       "    <tr>\n",
       "      <th>0</th>\n",
       "      <td>cg00000029 0.1109493 beta Illumina Infinium ht...</td>\n",
       "    </tr>\n",
       "    <tr>\n",
       "      <th>1</th>\n",
       "      <td>cg00000108 0.9 beta Illumina Infinium http://r...</td>\n",
       "    </tr>\n",
       "    <tr>\n",
       "      <th>2</th>\n",
       "      <td>cg00000109 0.8031746 beta Illumina Infinium ht...</td>\n",
       "    </tr>\n",
       "    <tr>\n",
       "      <th>3</th>\n",
       "      <td>cg00000165 0.3454944 beta Illumina Infinium ht...</td>\n",
       "    </tr>\n",
       "    <tr>\n",
       "      <th>4</th>\n",
       "      <td>cg00000236 0.8142425 beta Illumina Infinium ht...</td>\n",
       "    </tr>\n",
       "    <tr>\n",
       "      <th>...</th>\n",
       "      <td>...</td>\n",
       "    </tr>\n",
       "    <tr>\n",
       "      <th>188162001</th>\n",
       "      <td>cg14910038 0.9012764 beta Illumina Infinium ht...</td>\n",
       "    </tr>\n",
       "    <tr>\n",
       "      <th>188162002</th>\n",
       "      <td>cg14910055 0.7647188 beta Illumina Infinium ht...</td>\n",
       "    </tr>\n",
       "    <tr>\n",
       "      <th>188162003</th>\n",
       "      <td>cg14910061 0.1954479 beta Illumina Infinium ht...</td>\n",
       "    </tr>\n",
       "    <tr>\n",
       "      <th>188162004</th>\n",
       "      <td>cg14910125 0.8728324 beta Illumina Infinium ht...</td>\n",
       "    </tr>\n",
       "    <tr>\n",
       "      <th>188162005</th>\n",
       "      <td>cg14910175 0.6946866 beta Illumina Infinium ht...</td>\n",
       "    </tr>\n",
       "  </tbody>\n",
       "</table>\n",
       "<p>188162006 rows × 1 columns</p>\n",
       "</div>"
      ],
      "text/plain": [
       "          probe_id methylation_value metric_used methylated_probe_intensity unmethylated_probe_intensity verification_platform\n",
       "0          cg00000029 0.1109493 beta Illumina Infinium ht...                                                                  \n",
       "1          cg00000108 0.9 beta Illumina Infinium http://r...                                                                  \n",
       "2          cg00000109 0.8031746 beta Illumina Infinium ht...                                                                  \n",
       "3          cg00000165 0.3454944 beta Illumina Infinium ht...                                                                  \n",
       "4          cg00000236 0.8142425 beta Illumina Infinium ht...                                                                  \n",
       "...                                                      ...                                                                  \n",
       "188162001  cg14910038 0.9012764 beta Illumina Infinium ht...                                                                  \n",
       "188162002  cg14910055 0.7647188 beta Illumina Infinium ht...                                                                  \n",
       "188162003  cg14910061 0.1954479 beta Illumina Infinium ht...                                                                  \n",
       "188162004  cg14910125 0.8728324 beta Illumina Infinium ht...                                                                  \n",
       "188162005  cg14910175 0.6946866 beta Illumina Infinium ht...                                                                  \n",
       "\n",
       "[188162006 rows x 1 columns]"
      ]
     },
     "execution_count": 2,
     "metadata": {},
     "output_type": "execute_result"
    }
   ],
   "source": [
    "import pandas as pd\n",
    "\n",
    "df = pd.read_csv(\"new2.tsv\")\n",
    "\n",
    "df"
   ]
  },
  {
   "cell_type": "code",
   "execution_count": null,
   "id": "f9507dec-2fbc-40cd-9cdd-ebca220c3349",
   "metadata": {},
   "outputs": [],
   "source": []
  }
 ],
 "metadata": {
  "kernelspec": {
   "display_name": "Python 3 (ipykernel)",
   "language": "python",
   "name": "python3"
  },
  "language_info": {
   "codemirror_mode": {
    "name": "ipython",
    "version": 3
   },
   "file_extension": ".py",
   "mimetype": "text/x-python",
   "name": "python",
   "nbconvert_exporter": "python",
   "pygments_lexer": "ipython3",
   "version": "3.10.9"
  }
 },
 "nbformat": 4,
 "nbformat_minor": 5
}
