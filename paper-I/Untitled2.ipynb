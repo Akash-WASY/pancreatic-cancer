{
 "cells": [
  {
   "cell_type": "code",
   "execution_count": 1,
   "id": "4ee1eef7-9d3e-46df-a964-6064c5455b83",
   "metadata": {},
   "outputs": [
    {
     "name": "stdout",
     "output_type": "stream",
     "text": [
      "Collecting pandoc\n",
      "  Downloading pandoc-2.3.tar.gz (33 kB)\n",
      "  Installing build dependencies: started\n",
      "  Installing build dependencies: finished with status 'done'\n",
      "  Getting requirements to build wheel: started\n",
      "  Getting requirements to build wheel: finished with status 'done'\n",
      "  Preparing metadata (pyproject.toml): started\n",
      "  Preparing metadata (pyproject.toml): finished with status 'done'\n",
      "Collecting plumbum (from pandoc)\n",
      "  Obtaining dependency information for plumbum from https://files.pythonhosted.org/packages/6f/e8/a9a580d1d67825d8bdc16f3993ea58c4066769d5f8ba34caaa69a5344b39/plumbum-1.8.2-py3-none-any.whl.metadata\n",
      "  Downloading plumbum-1.8.2-py3-none-any.whl.metadata (10 kB)\n",
      "Collecting ply (from pandoc)\n",
      "  Downloading ply-3.11-py2.py3-none-any.whl (49 kB)\n",
      "     ---------------------------------------- 0.0/49.6 kB ? eta -:--:--\n",
      "     ---------------------------------------- 49.6/49.6 kB 1.2 MB/s eta 0:00:00\n",
      "Requirement already satisfied: pywin32 in c:\\users\\prantik\\appdata\\local\\programs\\python\\python311\\lib\\site-packages (from plumbum->pandoc) (306)\n",
      "Downloading plumbum-1.8.2-py3-none-any.whl (127 kB)\n",
      "   ---------------------------------------- 0.0/127.0 kB ? eta -:--:--\n",
      "   ---------------------------------------- 127.0/127.0 kB 2.5 MB/s eta 0:00:00\n",
      "Building wheels for collected packages: pandoc\n",
      "  Building wheel for pandoc (pyproject.toml): started\n",
      "  Building wheel for pandoc (pyproject.toml): finished with status 'done'\n",
      "  Created wheel for pandoc: filename=pandoc-2.3-py3-none-any.whl size=33290 sha256=7857b50145556c8d2b37057e9c0addacb200e297ef462909e27798ed327ce44e\n",
      "  Stored in directory: c:\\users\\prantik\\appdata\\local\\pip\\cache\\wheels\\1c\\a9\\c4\\6254542c4e8202d52fcd69798d2507aaad1f2a4bb60f2f0fea\n",
      "Successfully built pandoc\n",
      "Installing collected packages: ply, plumbum, pandoc\n",
      "Successfully installed pandoc-2.3 plumbum-1.8.2 ply-3.11\n",
      "Note: you may need to restart the kernel to use updated packages.\n"
     ]
    },
    {
     "name": "stderr",
     "output_type": "stream",
     "text": [
      "\n",
      "[notice] A new release of pip is available: 23.2.1 -> 23.3.1\n",
      "[notice] To update, run: python.exe -m pip install --upgrade pip\n"
     ]
    }
   ],
   "source": [
    "pip install pandoc\n"
   ]
  },
  {
   "cell_type": "code",
   "execution_count": 3,
   "id": "a124fee9-fea6-48e7-849c-088888084d20",
   "metadata": {},
   "outputs": [
    {
     "ename": "SyntaxError",
     "evalue": "invalid syntax (3642400042.py, line 1)",
     "output_type": "error",
     "traceback": [
      "\u001b[1;36m  Cell \u001b[1;32mIn[3], line 1\u001b[1;36m\u001b[0m\n\u001b[1;33m    pandoc coxanalysis_file.ipynb -s -o ab.docx\u001b[0m\n\u001b[1;37m           ^\u001b[0m\n\u001b[1;31mSyntaxError\u001b[0m\u001b[1;31m:\u001b[0m invalid syntax\n"
     ]
    }
   ],
   "source": [
    "pandoc coxanalysis_file.ipynb -s -o ab.docx\n"
   ]
  },
  {
   "cell_type": "code",
   "execution_count": null,
   "id": "2cee6ac8-ff79-4d3c-9d78-2e21c92fd515",
   "metadata": {},
   "outputs": [],
   "source": []
  }
 ],
 "metadata": {
  "kernelspec": {
   "display_name": "Python 3 (ipykernel)",
   "language": "python",
   "name": "python3"
  },
  "language_info": {
   "codemirror_mode": {
    "name": "ipython",
    "version": 3
   },
   "file_extension": ".py",
   "mimetype": "text/x-python",
   "name": "python",
   "nbconvert_exporter": "python",
   "pygments_lexer": "ipython3",
   "version": "3.11.5"
  }
 },
 "nbformat": 4,
 "nbformat_minor": 5
}
