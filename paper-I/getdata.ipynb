{
 "cells": [
  {
   "cell_type": "code",
   "execution_count": 1,
   "id": "fd41c31c-53d9-4e65-8cd4-ca5e5574bfed",
   "metadata": {
    "ExecuteTime": {
     "end_time": "2023-12-14T10:52:50.971342900Z",
     "start_time": "2023-12-14T10:52:50.948139500Z"
    }
   },
   "outputs": [],
   "source": [
    "import pandas as pd"
   ]
  },
  {
   "cell_type": "code",
   "execution_count": 2,
   "id": "ff0a1f15-27a8-4eaa-bd8b-1b8a6a05c110",
   "metadata": {
    "ExecuteTime": {
     "end_time": "2023-12-14T10:52:51.015911Z",
     "start_time": "2023-12-14T10:52:50.951639400Z"
    }
   },
   "outputs": [],
   "source": [
    "#importing the genelist\n",
    "df = pd.read_excel('27_genelist_02_06_22.xlsx', sheet_name=0, engine='openpyxl')"
   ]
  },
  {
   "cell_type": "code",
   "execution_count": 3,
   "id": "c87c552c-09f7-4a4b-8f5d-5d2e782c3655",
   "metadata": {
    "ExecuteTime": {
     "end_time": "2023-12-14T10:52:51.016908Z",
     "start_time": "2023-12-14T10:52:50.972341400Z"
    }
   },
   "outputs": [
    {
     "data": {
      "text/html": [
       "<div>\n",
       "<style scoped>\n",
       "    .dataframe tbody tr th:only-of-type {\n",
       "        vertical-align: middle;\n",
       "    }\n",
       "\n",
       "    .dataframe tbody tr th {\n",
       "        vertical-align: top;\n",
       "    }\n",
       "\n",
       "    .dataframe thead th {\n",
       "        text-align: right;\n",
       "    }\n",
       "</style>\n",
       "<table border=\"1\" class=\"dataframe\">\n",
       "  <thead>\n",
       "    <tr style=\"text-align: right;\">\n",
       "      <th></th>\n",
       "      <th>UCSC_RefGene_Name</th>\n",
       "      <th>adj.P.Val</th>\n",
       "      <th>UCSC_RefGene_Group</th>\n",
       "    </tr>\n",
       "  </thead>\n",
       "  <tbody>\n",
       "    <tr>\n",
       "      <th>0</th>\n",
       "      <td>CALHM3</td>\n",
       "      <td>0.002945</td>\n",
       "      <td>TSS200</td>\n",
       "    </tr>\n",
       "    <tr>\n",
       "      <th>1</th>\n",
       "      <td>MUC5B</td>\n",
       "      <td>0.006068</td>\n",
       "      <td>Body</td>\n",
       "    </tr>\n",
       "    <tr>\n",
       "      <th>2</th>\n",
       "      <td>FXYD3</td>\n",
       "      <td>0.006023</td>\n",
       "      <td>Body</td>\n",
       "    </tr>\n",
       "    <tr>\n",
       "      <th>3</th>\n",
       "      <td>MIA</td>\n",
       "      <td>0.000474</td>\n",
       "      <td>TSS1500</td>\n",
       "    </tr>\n",
       "    <tr>\n",
       "      <th>4</th>\n",
       "      <td>BAIAP2L2</td>\n",
       "      <td>0.000677</td>\n",
       "      <td>1stExon</td>\n",
       "    </tr>\n",
       "    <tr>\n",
       "      <th>...</th>\n",
       "      <td>...</td>\n",
       "      <td>...</td>\n",
       "      <td>...</td>\n",
       "    </tr>\n",
       "    <tr>\n",
       "      <th>56</th>\n",
       "      <td>CD36</td>\n",
       "      <td>0.033490</td>\n",
       "      <td>5'UTR</td>\n",
       "    </tr>\n",
       "    <tr>\n",
       "      <th>57</th>\n",
       "      <td>MOGAT2</td>\n",
       "      <td>0.004333</td>\n",
       "      <td>TSS200</td>\n",
       "    </tr>\n",
       "    <tr>\n",
       "      <th>58</th>\n",
       "      <td>MUC13</td>\n",
       "      <td>0.024632</td>\n",
       "      <td>TSS200</td>\n",
       "    </tr>\n",
       "    <tr>\n",
       "      <th>59</th>\n",
       "      <td>MUC5B</td>\n",
       "      <td>0.044367</td>\n",
       "      <td>Body</td>\n",
       "    </tr>\n",
       "    <tr>\n",
       "      <th>60</th>\n",
       "      <td>ALPP</td>\n",
       "      <td>0.021824</td>\n",
       "      <td>Body</td>\n",
       "    </tr>\n",
       "  </tbody>\n",
       "</table>\n",
       "<p>61 rows × 3 columns</p>\n",
       "</div>"
      ],
      "text/plain": [
       "   UCSC_RefGene_Name  adj.P.Val UCSC_RefGene_Group\n",
       "0             CALHM3   0.002945             TSS200\n",
       "1              MUC5B   0.006068               Body\n",
       "2              FXYD3   0.006023               Body\n",
       "3                MIA   0.000474            TSS1500\n",
       "4           BAIAP2L2   0.000677            1stExon\n",
       "..               ...        ...                ...\n",
       "56              CD36   0.033490              5'UTR\n",
       "57            MOGAT2   0.004333             TSS200\n",
       "58             MUC13   0.024632             TSS200\n",
       "59             MUC5B   0.044367               Body\n",
       "60              ALPP   0.021824               Body\n",
       "\n",
       "[61 rows x 3 columns]"
      ]
     },
     "execution_count": 3,
     "metadata": {},
     "output_type": "execute_result"
    }
   ],
   "source": [
    "#printing the dataframe\n",
    "df"
   ]
  },
  {
   "cell_type": "code",
   "execution_count": 4,
   "id": "70bd98e0-e392-4fe6-8fa9-ce85b78500c0",
   "metadata": {
    "ExecuteTime": {
     "end_time": "2023-12-14T10:52:51.016908Z",
     "start_time": "2023-12-14T10:52:50.982389200Z"
    }
   },
   "outputs": [],
   "source": [
    "#getting the unique columns from the dataframe\n",
    "u_columns = df['UCSC_RefGene_Name'].unique()"
   ]
  },
  {
   "cell_type": "code",
   "execution_count": 5,
   "id": "15a08cba-72d2-427b-a64b-9675152ab829",
   "metadata": {
    "ExecuteTime": {
     "end_time": "2023-12-14T10:52:51.016908Z",
     "start_time": "2023-12-14T10:52:50.992622200Z"
    }
   },
   "outputs": [
    {
     "data": {
      "text/plain": [
       "27"
      ]
     },
     "execution_count": 5,
     "metadata": {},
     "output_type": "execute_result"
    }
   ],
   "source": [
    "#total no of  gene\n",
    "len(u_columns)  #number of unique columns\n",
    "\n",
    "#value is 27 (matched with akash information)"
   ]
  },
  {
   "cell_type": "code",
   "execution_count": 6,
   "id": "d5fc6bb9-4d9d-4c8d-919c-3156fa97012c",
   "metadata": {
    "ExecuteTime": {
     "end_time": "2023-12-14T10:52:51.041134200Z",
     "start_time": "2023-12-14T10:52:51.002946300Z"
    }
   },
   "outputs": [
    {
     "data": {
      "text/html": [
       "<div>\n",
       "<style scoped>\n",
       "    .dataframe tbody tr th:only-of-type {\n",
       "        vertical-align: middle;\n",
       "    }\n",
       "\n",
       "    .dataframe tbody tr th {\n",
       "        vertical-align: top;\n",
       "    }\n",
       "\n",
       "    .dataframe thead th {\n",
       "        text-align: right;\n",
       "    }\n",
       "</style>\n",
       "<table border=\"1\" class=\"dataframe\">\n",
       "  <thead>\n",
       "    <tr style=\"text-align: right;\">\n",
       "      <th></th>\n",
       "      <th>chr</th>\n",
       "      <th>pos (**hg19)</th>\n",
       "      <th>ProbeID</th>\n",
       "      <th>UCSC_RefGene_Name</th>\n",
       "      <th>delbeta</th>\n",
       "      <th>P.Value</th>\n",
       "      <th>adj.P.Val</th>\n",
       "      <th>Relation_to_Island</th>\n",
       "      <th>UCSC_RefGene_Group</th>\n",
       "    </tr>\n",
       "  </thead>\n",
       "  <tbody>\n",
       "    <tr>\n",
       "      <th>0</th>\n",
       "      <td>chr11</td>\n",
       "      <td>108422663</td>\n",
       "      <td>cg22254463</td>\n",
       "      <td>EXPH5</td>\n",
       "      <td>-0.425207</td>\n",
       "      <td>2.027364e-05</td>\n",
       "      <td>0.001954</td>\n",
       "      <td>OpenSea</td>\n",
       "      <td>5'UTR</td>\n",
       "    </tr>\n",
       "    <tr>\n",
       "      <th>1</th>\n",
       "      <td>chr11</td>\n",
       "      <td>108422663</td>\n",
       "      <td>cg22254463</td>\n",
       "      <td>EXPH5</td>\n",
       "      <td>-0.425207</td>\n",
       "      <td>2.027364e-05</td>\n",
       "      <td>0.001954</td>\n",
       "      <td>OpenSea</td>\n",
       "      <td>Body</td>\n",
       "    </tr>\n",
       "    <tr>\n",
       "      <th>2</th>\n",
       "      <td>chr1</td>\n",
       "      <td>9779309</td>\n",
       "      <td>cg07805542</td>\n",
       "      <td>PIK3CD</td>\n",
       "      <td>-0.377014</td>\n",
       "      <td>1.037166e-03</td>\n",
       "      <td>0.019556</td>\n",
       "      <td>S_Shelf</td>\n",
       "      <td>Body</td>\n",
       "    </tr>\n",
       "    <tr>\n",
       "      <th>3</th>\n",
       "      <td>chr10</td>\n",
       "      <td>123810032</td>\n",
       "      <td>cg05655953</td>\n",
       "      <td>TACC2</td>\n",
       "      <td>-0.369683</td>\n",
       "      <td>9.050071e-08</td>\n",
       "      <td>0.000247</td>\n",
       "      <td>OpenSea</td>\n",
       "      <td>Body</td>\n",
       "    </tr>\n",
       "    <tr>\n",
       "      <th>4</th>\n",
       "      <td>chr1</td>\n",
       "      <td>204301278</td>\n",
       "      <td>cg10094886</td>\n",
       "      <td>PLEKHA6</td>\n",
       "      <td>-0.354701</td>\n",
       "      <td>5.575690e-07</td>\n",
       "      <td>0.000415</td>\n",
       "      <td>OpenSea</td>\n",
       "      <td>5'UTR</td>\n",
       "    </tr>\n",
       "    <tr>\n",
       "      <th>...</th>\n",
       "      <td>...</td>\n",
       "      <td>...</td>\n",
       "      <td>...</td>\n",
       "      <td>...</td>\n",
       "      <td>...</td>\n",
       "      <td>...</td>\n",
       "      <td>...</td>\n",
       "      <td>...</td>\n",
       "      <td>...</td>\n",
       "    </tr>\n",
       "    <tr>\n",
       "      <th>176</th>\n",
       "      <td>chr5</td>\n",
       "      <td>180336487</td>\n",
       "      <td>cg17826428</td>\n",
       "      <td>BTNL8</td>\n",
       "      <td>-0.201470</td>\n",
       "      <td>2.712092e-03</td>\n",
       "      <td>0.035760</td>\n",
       "      <td>OpenSea</td>\n",
       "      <td>TSS200</td>\n",
       "    </tr>\n",
       "    <tr>\n",
       "      <th>177</th>\n",
       "      <td>chr17</td>\n",
       "      <td>79068856</td>\n",
       "      <td>cg06578276</td>\n",
       "      <td>BAIAP2</td>\n",
       "      <td>-0.201135</td>\n",
       "      <td>1.484780e-03</td>\n",
       "      <td>0.024462</td>\n",
       "      <td>OpenSea</td>\n",
       "      <td>Body</td>\n",
       "    </tr>\n",
       "    <tr>\n",
       "      <th>178</th>\n",
       "      <td>chr3</td>\n",
       "      <td>124653632</td>\n",
       "      <td>cg06196689</td>\n",
       "      <td>MUC13</td>\n",
       "      <td>-0.200745</td>\n",
       "      <td>1.502774e-03</td>\n",
       "      <td>0.024632</td>\n",
       "      <td>OpenSea</td>\n",
       "      <td>TSS200</td>\n",
       "    </tr>\n",
       "    <tr>\n",
       "      <th>179</th>\n",
       "      <td>chr11</td>\n",
       "      <td>1254204</td>\n",
       "      <td>cg24537237</td>\n",
       "      <td>MUC5B</td>\n",
       "      <td>-0.200000</td>\n",
       "      <td>3.841024e-03</td>\n",
       "      <td>0.044367</td>\n",
       "      <td>Island</td>\n",
       "      <td>Body</td>\n",
       "    </tr>\n",
       "    <tr>\n",
       "      <th>180</th>\n",
       "      <td>chr2</td>\n",
       "      <td>233246431</td>\n",
       "      <td>cg14659346</td>\n",
       "      <td>ALPP</td>\n",
       "      <td>0.272815</td>\n",
       "      <td>1.238201e-03</td>\n",
       "      <td>0.021824</td>\n",
       "      <td>Island</td>\n",
       "      <td>Body</td>\n",
       "    </tr>\n",
       "  </tbody>\n",
       "</table>\n",
       "<p>181 rows × 9 columns</p>\n",
       "</div>"
      ],
      "text/plain": [
       "       chr  pos (**hg19)     ProbeID UCSC_RefGene_Name   delbeta   \n",
       "0    chr11     108422663  cg22254463             EXPH5 -0.425207  \\\n",
       "1    chr11     108422663  cg22254463             EXPH5 -0.425207   \n",
       "2     chr1       9779309  cg07805542            PIK3CD -0.377014   \n",
       "3    chr10     123810032  cg05655953             TACC2 -0.369683   \n",
       "4     chr1     204301278  cg10094886           PLEKHA6 -0.354701   \n",
       "..     ...           ...         ...               ...       ...   \n",
       "176   chr5     180336487  cg17826428             BTNL8 -0.201470   \n",
       "177  chr17      79068856  cg06578276            BAIAP2 -0.201135   \n",
       "178   chr3     124653632  cg06196689             MUC13 -0.200745   \n",
       "179  chr11       1254204  cg24537237             MUC5B -0.200000   \n",
       "180   chr2     233246431  cg14659346              ALPP  0.272815   \n",
       "\n",
       "          P.Value  adj.P.Val Relation_to_Island UCSC_RefGene_Group  \n",
       "0    2.027364e-05   0.001954            OpenSea              5'UTR  \n",
       "1    2.027364e-05   0.001954            OpenSea               Body  \n",
       "2    1.037166e-03   0.019556            S_Shelf               Body  \n",
       "3    9.050071e-08   0.000247            OpenSea               Body  \n",
       "4    5.575690e-07   0.000415            OpenSea              5'UTR  \n",
       "..            ...        ...                ...                ...  \n",
       "176  2.712092e-03   0.035760            OpenSea             TSS200  \n",
       "177  1.484780e-03   0.024462            OpenSea               Body  \n",
       "178  1.502774e-03   0.024632            OpenSea             TSS200  \n",
       "179  3.841024e-03   0.044367             Island               Body  \n",
       "180  1.238201e-03   0.021824             Island               Body  \n",
       "\n",
       "[181 rows x 9 columns]"
      ]
     },
     "execution_count": 6,
     "metadata": {},
     "output_type": "execute_result"
    }
   ],
   "source": [
    "#data frame containing the CG_ID\n",
    "df2 = pd.read_excel('27_genelist_02_06_22.xlsx', sheet_name=1, engine='openpyxl')\n",
    "df2"
   ]
  },
  {
   "cell_type": "code",
   "execution_count": 7,
   "id": "97343fb0-5877-418a-bfc7-1870de29ba29",
   "metadata": {
    "ExecuteTime": {
     "end_time": "2023-12-14T10:52:51.122070500Z",
     "start_time": "2023-12-14T10:52:51.049325Z"
    }
   },
   "outputs": [
    {
     "name": "stdout",
     "output_type": "stream",
     "text": [
      "{'CALHM3': ['cg12184624', 'cg07010146', 'cg11957248', 'cg11957248', 'cg27658026', 'cg04804772', 'cg04804772'], 'MUC5B': ['cg07497941', 'cg20340346', 'cg20911165', 'cg24537237'], 'FXYD3': ['cg08823209', 'cg21965980'], 'MIA': ['cg25152942'], 'BAIAP2L2': ['cg27505627', 'cg27505627', 'cg15944459', 'cg15944459', 'cg08196512'], 'C2orf54': ['cg20140201', 'cg08006182', 'cg08006182', 'cg08006182'], 'ALPP': ['cg19654061', 'cg19654061', 'cg14659346'], 'SH3TC2': ['cg26474043'], 'CAPN8': ['cg19249749', 'cg09060908', 'cg27235315'], 'CD68': ['cg05209483', 'cg05209483'], 'PI3': ['cg02733351'], 'ALG1L': ['cg07473553'], 'ANKDD1A': ['cg09291474'], 'PLXNA2': ['cg05626664', 'cg07359183'], 'ALDH3A1': ['cg15849060', 'cg15849060', 'cg15849060', 'cg13295878', 'cg13295878'], 'TOX3': ['cg07402003'], 'FAM83A': ['cg03531754'], 'PPP1R14D': ['cg23382741', 'cg04968426'], 'LRRC31': ['cg12183875'], 'UGT1A1': ['cg03607648', 'cg03607648', 'cg03607648'], 'DDC': ['cg14754494'], 'NQO1': ['cg08836861'], 'MOGAT2': ['cg12531542', 'cg15955277', 'cg25255988', 'cg20938170'], 'MLPH': ['cg27051686'], 'ALPI': ['cg08210297', 'cg08210297'], 'CD36': ['cg06601993'], 'MUC13': ['cg06196689']}\n"
     ]
    }
   ],
   "source": [
    "cg_id = dict()\n",
    "all_cg_id = list()\n",
    "for col in u_columns:\n",
    "    result  = df2.loc[df2['UCSC_RefGene_Name'] == col,'ProbeID']\n",
    "    cg_id.update({col:list(result)})\n",
    "    all_cg_id = all_cg_id +list(result)\n",
    "\n",
    "#taking results as dictionary form ad display it\n",
    "print(cg_id)"
   ]
  },
  {
   "cell_type": "code",
   "execution_count": 8,
   "id": "effae7e5-e54c-45b5-bd9a-c8b8f0243846",
   "metadata": {
    "ExecuteTime": {
     "end_time": "2023-12-14T10:52:51.123065600Z",
     "start_time": "2023-12-14T10:52:51.052823800Z"
    }
   },
   "outputs": [
    {
     "name": "stdout",
     "output_type": "stream",
     "text": [
      "['cg12184624', 'cg07010146', 'cg11957248', 'cg11957248', 'cg27658026', 'cg04804772', 'cg04804772', 'cg07497941', 'cg20340346', 'cg20911165', 'cg24537237', 'cg08823209', 'cg21965980', 'cg25152942', 'cg27505627', 'cg27505627', 'cg15944459', 'cg15944459', 'cg08196512', 'cg20140201', 'cg08006182', 'cg08006182', 'cg08006182', 'cg19654061', 'cg19654061', 'cg14659346', 'cg26474043', 'cg19249749', 'cg09060908', 'cg27235315', 'cg05209483', 'cg05209483', 'cg02733351', 'cg07473553', 'cg09291474', 'cg05626664', 'cg07359183', 'cg15849060', 'cg15849060', 'cg15849060', 'cg13295878', 'cg13295878', 'cg07402003', 'cg03531754', 'cg23382741', 'cg04968426', 'cg12183875', 'cg03607648', 'cg03607648', 'cg03607648', 'cg14754494', 'cg08836861', 'cg12531542', 'cg15955277', 'cg25255988', 'cg20938170', 'cg27051686', 'cg08210297', 'cg08210297', 'cg06601993', 'cg06196689']\n"
     ]
    },
    {
     "data": {
      "text/plain": [
       "61"
      ]
     },
     "execution_count": 8,
     "metadata": {},
     "output_type": "execute_result"
    }
   ],
   "source": [
    "#All the CG_ID inner join of the two sheet\n",
    "\n",
    "print(all_cg_id)\n",
    "# lengths = [len(v) for v in cg_id.values()]\n",
    "# sum(lengths) 61 did not match with akash information\n",
    "len(all_cg_id)"
   ]
  },
  {
   "cell_type": "code",
   "execution_count": 9,
   "id": "98c2cf01-497a-4d8a-b5c5-0c3f5665d4c4",
   "metadata": {
    "ExecuteTime": {
     "end_time": "2023-12-14T10:52:56.777675700Z",
     "start_time": "2023-12-14T10:52:51.063200Z"
    }
   },
   "outputs": [
    {
     "ename": "FileNotFoundError",
     "evalue": "[Errno 2] No such file or directory: 'TCGA_PAAD_182_norm_beta.txt'",
     "output_type": "error",
     "traceback": [
      "\u001b[1;31m---------------------------------------------------------------------------\u001b[0m",
      "\u001b[1;31mFileNotFoundError\u001b[0m                         Traceback (most recent call last)",
      "Cell \u001b[1;32mIn[9], line 2\u001b[0m\n\u001b[0;32m      1\u001b[0m \u001b[38;5;66;03m#TCGA_PAAD_182_norm_beta data was in txt format. I have changed it , shifted the heading column by one. Rename the first column as ProbeID\u001b[39;00m\n\u001b[1;32m----> 2\u001b[0m df3 \u001b[38;5;241m=\u001b[39m \u001b[43mpd\u001b[49m\u001b[38;5;241;43m.\u001b[39;49m\u001b[43mread_csv\u001b[49m\u001b[43m(\u001b[49m\u001b[38;5;124;43m\"\u001b[39;49m\u001b[38;5;124;43mTCGA_PAAD_182_norm_beta.txt\u001b[39;49m\u001b[38;5;124;43m\"\u001b[39;49m\u001b[43m)\u001b[49m\n\u001b[0;32m      3\u001b[0m df3\n",
      "File \u001b[1;32m~\\AppData\\Local\\Programs\\Python\\Python311\\Lib\\site-packages\\pandas\\io\\parsers\\readers.py:912\u001b[0m, in \u001b[0;36mread_csv\u001b[1;34m(filepath_or_buffer, sep, delimiter, header, names, index_col, usecols, dtype, engine, converters, true_values, false_values, skipinitialspace, skiprows, skipfooter, nrows, na_values, keep_default_na, na_filter, verbose, skip_blank_lines, parse_dates, infer_datetime_format, keep_date_col, date_parser, date_format, dayfirst, cache_dates, iterator, chunksize, compression, thousands, decimal, lineterminator, quotechar, quoting, doublequote, escapechar, comment, encoding, encoding_errors, dialect, on_bad_lines, delim_whitespace, low_memory, memory_map, float_precision, storage_options, dtype_backend)\u001b[0m\n\u001b[0;32m    899\u001b[0m kwds_defaults \u001b[38;5;241m=\u001b[39m _refine_defaults_read(\n\u001b[0;32m    900\u001b[0m     dialect,\n\u001b[0;32m    901\u001b[0m     delimiter,\n\u001b[1;32m   (...)\u001b[0m\n\u001b[0;32m    908\u001b[0m     dtype_backend\u001b[38;5;241m=\u001b[39mdtype_backend,\n\u001b[0;32m    909\u001b[0m )\n\u001b[0;32m    910\u001b[0m kwds\u001b[38;5;241m.\u001b[39mupdate(kwds_defaults)\n\u001b[1;32m--> 912\u001b[0m \u001b[38;5;28;01mreturn\u001b[39;00m \u001b[43m_read\u001b[49m\u001b[43m(\u001b[49m\u001b[43mfilepath_or_buffer\u001b[49m\u001b[43m,\u001b[49m\u001b[43m \u001b[49m\u001b[43mkwds\u001b[49m\u001b[43m)\u001b[49m\n",
      "File \u001b[1;32m~\\AppData\\Local\\Programs\\Python\\Python311\\Lib\\site-packages\\pandas\\io\\parsers\\readers.py:577\u001b[0m, in \u001b[0;36m_read\u001b[1;34m(filepath_or_buffer, kwds)\u001b[0m\n\u001b[0;32m    574\u001b[0m _validate_names(kwds\u001b[38;5;241m.\u001b[39mget(\u001b[38;5;124m\"\u001b[39m\u001b[38;5;124mnames\u001b[39m\u001b[38;5;124m\"\u001b[39m, \u001b[38;5;28;01mNone\u001b[39;00m))\n\u001b[0;32m    576\u001b[0m \u001b[38;5;66;03m# Create the parser.\u001b[39;00m\n\u001b[1;32m--> 577\u001b[0m parser \u001b[38;5;241m=\u001b[39m \u001b[43mTextFileReader\u001b[49m\u001b[43m(\u001b[49m\u001b[43mfilepath_or_buffer\u001b[49m\u001b[43m,\u001b[49m\u001b[43m \u001b[49m\u001b[38;5;241;43m*\u001b[39;49m\u001b[38;5;241;43m*\u001b[39;49m\u001b[43mkwds\u001b[49m\u001b[43m)\u001b[49m\n\u001b[0;32m    579\u001b[0m \u001b[38;5;28;01mif\u001b[39;00m chunksize \u001b[38;5;129;01mor\u001b[39;00m iterator:\n\u001b[0;32m    580\u001b[0m     \u001b[38;5;28;01mreturn\u001b[39;00m parser\n",
      "File \u001b[1;32m~\\AppData\\Local\\Programs\\Python\\Python311\\Lib\\site-packages\\pandas\\io\\parsers\\readers.py:1407\u001b[0m, in \u001b[0;36mTextFileReader.__init__\u001b[1;34m(self, f, engine, **kwds)\u001b[0m\n\u001b[0;32m   1404\u001b[0m     \u001b[38;5;28mself\u001b[39m\u001b[38;5;241m.\u001b[39moptions[\u001b[38;5;124m\"\u001b[39m\u001b[38;5;124mhas_index_names\u001b[39m\u001b[38;5;124m\"\u001b[39m] \u001b[38;5;241m=\u001b[39m kwds[\u001b[38;5;124m\"\u001b[39m\u001b[38;5;124mhas_index_names\u001b[39m\u001b[38;5;124m\"\u001b[39m]\n\u001b[0;32m   1406\u001b[0m \u001b[38;5;28mself\u001b[39m\u001b[38;5;241m.\u001b[39mhandles: IOHandles \u001b[38;5;241m|\u001b[39m \u001b[38;5;28;01mNone\u001b[39;00m \u001b[38;5;241m=\u001b[39m \u001b[38;5;28;01mNone\u001b[39;00m\n\u001b[1;32m-> 1407\u001b[0m \u001b[38;5;28mself\u001b[39m\u001b[38;5;241m.\u001b[39m_engine \u001b[38;5;241m=\u001b[39m \u001b[38;5;28;43mself\u001b[39;49m\u001b[38;5;241;43m.\u001b[39;49m\u001b[43m_make_engine\u001b[49m\u001b[43m(\u001b[49m\u001b[43mf\u001b[49m\u001b[43m,\u001b[49m\u001b[43m \u001b[49m\u001b[38;5;28;43mself\u001b[39;49m\u001b[38;5;241;43m.\u001b[39;49m\u001b[43mengine\u001b[49m\u001b[43m)\u001b[49m\n",
      "File \u001b[1;32m~\\AppData\\Local\\Programs\\Python\\Python311\\Lib\\site-packages\\pandas\\io\\parsers\\readers.py:1661\u001b[0m, in \u001b[0;36mTextFileReader._make_engine\u001b[1;34m(self, f, engine)\u001b[0m\n\u001b[0;32m   1659\u001b[0m     \u001b[38;5;28;01mif\u001b[39;00m \u001b[38;5;124m\"\u001b[39m\u001b[38;5;124mb\u001b[39m\u001b[38;5;124m\"\u001b[39m \u001b[38;5;129;01mnot\u001b[39;00m \u001b[38;5;129;01min\u001b[39;00m mode:\n\u001b[0;32m   1660\u001b[0m         mode \u001b[38;5;241m+\u001b[39m\u001b[38;5;241m=\u001b[39m \u001b[38;5;124m\"\u001b[39m\u001b[38;5;124mb\u001b[39m\u001b[38;5;124m\"\u001b[39m\n\u001b[1;32m-> 1661\u001b[0m \u001b[38;5;28mself\u001b[39m\u001b[38;5;241m.\u001b[39mhandles \u001b[38;5;241m=\u001b[39m \u001b[43mget_handle\u001b[49m\u001b[43m(\u001b[49m\n\u001b[0;32m   1662\u001b[0m \u001b[43m    \u001b[49m\u001b[43mf\u001b[49m\u001b[43m,\u001b[49m\n\u001b[0;32m   1663\u001b[0m \u001b[43m    \u001b[49m\u001b[43mmode\u001b[49m\u001b[43m,\u001b[49m\n\u001b[0;32m   1664\u001b[0m \u001b[43m    \u001b[49m\u001b[43mencoding\u001b[49m\u001b[38;5;241;43m=\u001b[39;49m\u001b[38;5;28;43mself\u001b[39;49m\u001b[38;5;241;43m.\u001b[39;49m\u001b[43moptions\u001b[49m\u001b[38;5;241;43m.\u001b[39;49m\u001b[43mget\u001b[49m\u001b[43m(\u001b[49m\u001b[38;5;124;43m\"\u001b[39;49m\u001b[38;5;124;43mencoding\u001b[39;49m\u001b[38;5;124;43m\"\u001b[39;49m\u001b[43m,\u001b[49m\u001b[43m \u001b[49m\u001b[38;5;28;43;01mNone\u001b[39;49;00m\u001b[43m)\u001b[49m\u001b[43m,\u001b[49m\n\u001b[0;32m   1665\u001b[0m \u001b[43m    \u001b[49m\u001b[43mcompression\u001b[49m\u001b[38;5;241;43m=\u001b[39;49m\u001b[38;5;28;43mself\u001b[39;49m\u001b[38;5;241;43m.\u001b[39;49m\u001b[43moptions\u001b[49m\u001b[38;5;241;43m.\u001b[39;49m\u001b[43mget\u001b[49m\u001b[43m(\u001b[49m\u001b[38;5;124;43m\"\u001b[39;49m\u001b[38;5;124;43mcompression\u001b[39;49m\u001b[38;5;124;43m\"\u001b[39;49m\u001b[43m,\u001b[49m\u001b[43m \u001b[49m\u001b[38;5;28;43;01mNone\u001b[39;49;00m\u001b[43m)\u001b[49m\u001b[43m,\u001b[49m\n\u001b[0;32m   1666\u001b[0m \u001b[43m    \u001b[49m\u001b[43mmemory_map\u001b[49m\u001b[38;5;241;43m=\u001b[39;49m\u001b[38;5;28;43mself\u001b[39;49m\u001b[38;5;241;43m.\u001b[39;49m\u001b[43moptions\u001b[49m\u001b[38;5;241;43m.\u001b[39;49m\u001b[43mget\u001b[49m\u001b[43m(\u001b[49m\u001b[38;5;124;43m\"\u001b[39;49m\u001b[38;5;124;43mmemory_map\u001b[39;49m\u001b[38;5;124;43m\"\u001b[39;49m\u001b[43m,\u001b[49m\u001b[43m \u001b[49m\u001b[38;5;28;43;01mFalse\u001b[39;49;00m\u001b[43m)\u001b[49m\u001b[43m,\u001b[49m\n\u001b[0;32m   1667\u001b[0m \u001b[43m    \u001b[49m\u001b[43mis_text\u001b[49m\u001b[38;5;241;43m=\u001b[39;49m\u001b[43mis_text\u001b[49m\u001b[43m,\u001b[49m\n\u001b[0;32m   1668\u001b[0m \u001b[43m    \u001b[49m\u001b[43merrors\u001b[49m\u001b[38;5;241;43m=\u001b[39;49m\u001b[38;5;28;43mself\u001b[39;49m\u001b[38;5;241;43m.\u001b[39;49m\u001b[43moptions\u001b[49m\u001b[38;5;241;43m.\u001b[39;49m\u001b[43mget\u001b[49m\u001b[43m(\u001b[49m\u001b[38;5;124;43m\"\u001b[39;49m\u001b[38;5;124;43mencoding_errors\u001b[39;49m\u001b[38;5;124;43m\"\u001b[39;49m\u001b[43m,\u001b[49m\u001b[43m \u001b[49m\u001b[38;5;124;43m\"\u001b[39;49m\u001b[38;5;124;43mstrict\u001b[39;49m\u001b[38;5;124;43m\"\u001b[39;49m\u001b[43m)\u001b[49m\u001b[43m,\u001b[49m\n\u001b[0;32m   1669\u001b[0m \u001b[43m    \u001b[49m\u001b[43mstorage_options\u001b[49m\u001b[38;5;241;43m=\u001b[39;49m\u001b[38;5;28;43mself\u001b[39;49m\u001b[38;5;241;43m.\u001b[39;49m\u001b[43moptions\u001b[49m\u001b[38;5;241;43m.\u001b[39;49m\u001b[43mget\u001b[49m\u001b[43m(\u001b[49m\u001b[38;5;124;43m\"\u001b[39;49m\u001b[38;5;124;43mstorage_options\u001b[39;49m\u001b[38;5;124;43m\"\u001b[39;49m\u001b[43m,\u001b[49m\u001b[43m \u001b[49m\u001b[38;5;28;43;01mNone\u001b[39;49;00m\u001b[43m)\u001b[49m\u001b[43m,\u001b[49m\n\u001b[0;32m   1670\u001b[0m \u001b[43m\u001b[49m\u001b[43m)\u001b[49m\n\u001b[0;32m   1671\u001b[0m \u001b[38;5;28;01massert\u001b[39;00m \u001b[38;5;28mself\u001b[39m\u001b[38;5;241m.\u001b[39mhandles \u001b[38;5;129;01mis\u001b[39;00m \u001b[38;5;129;01mnot\u001b[39;00m \u001b[38;5;28;01mNone\u001b[39;00m\n\u001b[0;32m   1672\u001b[0m f \u001b[38;5;241m=\u001b[39m \u001b[38;5;28mself\u001b[39m\u001b[38;5;241m.\u001b[39mhandles\u001b[38;5;241m.\u001b[39mhandle\n",
      "File \u001b[1;32m~\\AppData\\Local\\Programs\\Python\\Python311\\Lib\\site-packages\\pandas\\io\\common.py:859\u001b[0m, in \u001b[0;36mget_handle\u001b[1;34m(path_or_buf, mode, encoding, compression, memory_map, is_text, errors, storage_options)\u001b[0m\n\u001b[0;32m    854\u001b[0m \u001b[38;5;28;01melif\u001b[39;00m \u001b[38;5;28misinstance\u001b[39m(handle, \u001b[38;5;28mstr\u001b[39m):\n\u001b[0;32m    855\u001b[0m     \u001b[38;5;66;03m# Check whether the filename is to be opened in binary mode.\u001b[39;00m\n\u001b[0;32m    856\u001b[0m     \u001b[38;5;66;03m# Binary mode does not support 'encoding' and 'newline'.\u001b[39;00m\n\u001b[0;32m    857\u001b[0m     \u001b[38;5;28;01mif\u001b[39;00m ioargs\u001b[38;5;241m.\u001b[39mencoding \u001b[38;5;129;01mand\u001b[39;00m \u001b[38;5;124m\"\u001b[39m\u001b[38;5;124mb\u001b[39m\u001b[38;5;124m\"\u001b[39m \u001b[38;5;129;01mnot\u001b[39;00m \u001b[38;5;129;01min\u001b[39;00m ioargs\u001b[38;5;241m.\u001b[39mmode:\n\u001b[0;32m    858\u001b[0m         \u001b[38;5;66;03m# Encoding\u001b[39;00m\n\u001b[1;32m--> 859\u001b[0m         handle \u001b[38;5;241m=\u001b[39m \u001b[38;5;28;43mopen\u001b[39;49m\u001b[43m(\u001b[49m\n\u001b[0;32m    860\u001b[0m \u001b[43m            \u001b[49m\u001b[43mhandle\u001b[49m\u001b[43m,\u001b[49m\n\u001b[0;32m    861\u001b[0m \u001b[43m            \u001b[49m\u001b[43mioargs\u001b[49m\u001b[38;5;241;43m.\u001b[39;49m\u001b[43mmode\u001b[49m\u001b[43m,\u001b[49m\n\u001b[0;32m    862\u001b[0m \u001b[43m            \u001b[49m\u001b[43mencoding\u001b[49m\u001b[38;5;241;43m=\u001b[39;49m\u001b[43mioargs\u001b[49m\u001b[38;5;241;43m.\u001b[39;49m\u001b[43mencoding\u001b[49m\u001b[43m,\u001b[49m\n\u001b[0;32m    863\u001b[0m \u001b[43m            \u001b[49m\u001b[43merrors\u001b[49m\u001b[38;5;241;43m=\u001b[39;49m\u001b[43merrors\u001b[49m\u001b[43m,\u001b[49m\n\u001b[0;32m    864\u001b[0m \u001b[43m            \u001b[49m\u001b[43mnewline\u001b[49m\u001b[38;5;241;43m=\u001b[39;49m\u001b[38;5;124;43m\"\u001b[39;49m\u001b[38;5;124;43m\"\u001b[39;49m\u001b[43m,\u001b[49m\n\u001b[0;32m    865\u001b[0m \u001b[43m        \u001b[49m\u001b[43m)\u001b[49m\n\u001b[0;32m    866\u001b[0m     \u001b[38;5;28;01melse\u001b[39;00m:\n\u001b[0;32m    867\u001b[0m         \u001b[38;5;66;03m# Binary mode\u001b[39;00m\n\u001b[0;32m    868\u001b[0m         handle \u001b[38;5;241m=\u001b[39m \u001b[38;5;28mopen\u001b[39m(handle, ioargs\u001b[38;5;241m.\u001b[39mmode)\n",
      "\u001b[1;31mFileNotFoundError\u001b[0m: [Errno 2] No such file or directory: 'TCGA_PAAD_182_norm_beta.txt'"
     ]
    }
   ],
   "source": [
    "#TCGA_PAAD_182_norm_beta data was in txt format. I have changed it , shifted the heading column by one. Rename the first column as ProbeID\n",
    "df3 = pd.read_csv(\"TCGA_PAAD_182_norm_beta.txt\")\n",
    "df3"
   ]
  },
  {
   "cell_type": "code",
   "execution_count": null,
   "id": "31412b78-7732-4ce4-829c-3294934f4add",
   "metadata": {
    "ExecuteTime": {
     "end_time": "2023-12-14T10:52:56.874007800Z",
     "start_time": "2023-12-14T10:52:56.779671Z"
    }
   },
   "outputs": [],
   "source": [
    "#dataframe related to clinical.tsv. I replaced - to underscore for the final matching\n",
    "df4 = pd.read_csv(\"clinical.tsv\", sep='\\t')\n",
    "df4['case_submitter_id'] = df4['case_submitter_id'].str.replace('-','_')\n",
    "#constructing another dataframe taking two columns from the dataframe\n",
    "df5= df4[[\"case_submitter_id\",\"days_to_death\"]]\n",
    "df5"
   ]
  },
  {
   "cell_type": "code",
   "execution_count": null,
   "id": "24bc23ae-d573-41f2-9e17-aebc3f76178b",
   "metadata": {
    "ExecuteTime": {
     "end_time": "2023-12-14T10:52:56.926606400Z",
     "start_time": "2023-12-14T10:52:56.820120800Z"
    }
   },
   "outputs": [],
   "source": [
    "#Save it to another excel\n",
    "writer = pd.ExcelWriter('cgid_dtd.xlsx', engine='xlsxwriter')\n",
    "df5.to_excel(writer, sheet_name='Sheet1', index=False)\n",
    "writer.save()"
   ]
  },
  {
   "cell_type": "code",
   "execution_count": null,
   "id": "d93f6ee1-ad2a-43db-84ef-588798474ef9",
   "metadata": {
    "ExecuteTime": {
     "start_time": "2023-12-14T10:52:56.901672800Z"
    }
   },
   "outputs": [],
   "source": [
    "df6 = df3[df3['ProbeID'].isin(all_cg_id)]    "
   ]
  },
  {
   "cell_type": "code",
   "execution_count": null,
   "id": "cd80161e-8a3c-4d1e-88fa-c49b9f4317f3",
   "metadata": {
    "ExecuteTime": {
     "start_time": "2023-12-14T10:52:56.904664700Z"
    }
   },
   "outputs": [],
   "source": [
    "df6"
   ]
  },
  {
   "cell_type": "code",
   "execution_count": null,
   "id": "6e49da8a-564d-48e8-8bc4-4076c9a17c38",
   "metadata": {
    "ExecuteTime": {
     "start_time": "2023-12-14T10:52:56.906659100Z"
    }
   },
   "outputs": [],
   "source": [
    "writer = pd.ExcelWriter('47dmp.xlsx', engine='xlsxwriter')\n",
    "df6.to_excel(writer, sheet_name='Sheet1', index=False)\n",
    "writer.save()"
   ]
  },
  {
   "cell_type": "code",
   "execution_count": null,
   "id": "2880ba21-6190-4d0d-9c0e-44feb0a979fc",
   "metadata": {
    "ExecuteTime": {
     "start_time": "2023-12-14T10:52:56.908658900Z"
    }
   },
   "outputs": [],
   "source": []
  }
 ],
 "metadata": {
  "kernelspec": {
   "display_name": "Python 3 (ipykernel)",
   "language": "python",
   "name": "python3"
  },
  "language_info": {
   "codemirror_mode": {
    "name": "ipython",
    "version": 3
   },
   "file_extension": ".py",
   "mimetype": "text/x-python",
   "name": "python",
   "nbconvert_exporter": "python",
   "pygments_lexer": "ipython3",
   "version": "3.11.5"
  }
 },
 "nbformat": 4,
 "nbformat_minor": 5
}
