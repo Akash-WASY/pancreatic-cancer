{
 "cells": [
  {
   "cell_type": "code",
   "execution_count": null,
   "metadata": {
<<<<<<< HEAD
    "ExecuteTime": {
     "end_time": "2023-12-14T14:50:42.796981900Z",
     "start_time": "2023-12-14T14:50:41.805790300Z"
    }
   },
   "outputs": [
    {
     "ename": "ModuleNotFoundError",
     "evalue": "No module named 'glmnet'",
     "output_type": "error",
     "traceback": [
      "\u001B[1;31m---------------------------------------------------------------------------\u001B[0m",
      "\u001B[1;31mModuleNotFoundError\u001B[0m                       Traceback (most recent call last)",
      "Cell \u001B[1;32mIn[1], line 5\u001B[0m\n\u001B[0;32m      3\u001B[0m \u001B[38;5;28;01mimport\u001B[39;00m \u001B[38;5;21;01mnumpy\u001B[39;00m \u001B[38;5;28;01mas\u001B[39;00m \u001B[38;5;21;01mnp\u001B[39;00m\n\u001B[0;32m      4\u001B[0m \u001B[38;5;28;01mimport\u001B[39;00m \u001B[38;5;21;01mmatplotlib\u001B[39;00m\u001B[38;5;21;01m.\u001B[39;00m\u001B[38;5;21;01mpyplot\u001B[39;00m \u001B[38;5;28;01mas\u001B[39;00m \u001B[38;5;21;01mplt\u001B[39;00m\n\u001B[1;32m----> 5\u001B[0m \u001B[38;5;28;01mfrom\u001B[39;00m \u001B[38;5;21;01mglmnet\u001B[39;00m \u001B[38;5;28;01mimport\u001B[39;00m ElasticNet\n\u001B[0;32m      6\u001B[0m \u001B[38;5;28;01mfrom\u001B[39;00m \u001B[38;5;21;01mglmnetPlot\u001B[39;00m \u001B[38;5;28;01mimport\u001B[39;00m glmnetPlot\n\u001B[0;32m      7\u001B[0m \u001B[38;5;28;01mfrom\u001B[39;00m \u001B[38;5;21;01mglmnetPrint\u001B[39;00m \u001B[38;5;28;01mimport\u001B[39;00m glmnetPrint\n",
      "\u001B[1;31mModuleNotFoundError\u001B[0m: No module named 'glmnet'"
     ]
    }
   ],
=======
    "is_executing": true
   },
   "outputs": [],
>>>>>>> 7568ad0428e0876a454e81438895ebec4da52dcf
   "source": [
    "import numpy as np\n",
    "import pandas as pd\n",
    "import numpy as np\n",
    "import matplotlib.pyplot as plt\n",
    "from glmnet import ElasticNet\n",
    "from glmnetPlot import glmnetPlot\n",
    "from glmnetPrint import glmnetPrint\n",
    "\n",
    "df =pd.read_excel(\"Mean Methylation Univariate freash.xlsx\", sheet_name=\"KNN\")\n",
    "df=df.drop(['ProbeID', 'tcga_participant_barcode'], axis=1)\n"
   ]
  },
  {
   "cell_type": "code",
   "execution_count": null,
   "outputs": [],
<<<<<<< HEAD
   "source": [
    "\n",
    "\n",
    "y = df[['CLI_vital_status', 'CLI_Time']]\n",
    "X = df.drop(['CLI_Time', 'CLI_vital_status'], axis=1)\n",
    "\n",
    "# Fit the adaptive Lasso model\n",
    "model = ElasticNet(alpha=1, standardize=False, n_splits=10)\n",
    "model.fit(X, y)\n",
    "\n",
    "# Visualize the results\n",
    "glmnetPlot(model)\n",
    "glmnetPrint(model)"
   ],
   "metadata": {
    "collapsed": false
=======
   "source": [],
   "metadata": {
    "collapsed": false,
    "is_executing": true
>>>>>>> 7568ad0428e0876a454e81438895ebec4da52dcf
   }
  },
  {
   "cell_type": "code",
   "execution_count": null,
   "outputs": [],
   "source": [],
   "metadata": {
    "collapsed": false
   }
  }
 ],
 "metadata": {
  "kernelspec": {
   "display_name": "Python 3 (ipykernel)",
   "language": "python",
   "name": "python3"
  },
  "language_info": {
   "codemirror_mode": {
    "name": "ipython",
    "version": 3
   },
   "file_extension": ".py",
   "mimetype": "text/x-python",
   "name": "python",
   "nbconvert_exporter": "python",
   "pygments_lexer": "ipython3",
<<<<<<< HEAD
   "version": "3.11.5"
=======
   "version": "3.11.4"
>>>>>>> 7568ad0428e0876a454e81438895ebec4da52dcf
  }
 },
 "nbformat": 4,
 "nbformat_minor": 4
}
