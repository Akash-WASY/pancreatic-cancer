{
 "cells": [
  {
   "cell_type": "code",
   "execution_count": 2,
   "id": "fd41c31c-53d9-4e65-8cd4-ca5e5574bfed",
   "metadata": {
    "ExecuteTime": {
     "end_time": "2024-01-19T04:50:42.505999400Z",
     "start_time": "2024-01-19T04:50:42.473090Z"
    }
   },
   "outputs": [],
   "source": [
    "import pandas as pd"
   ]
  },
  {
   "cell_type": "code",
   "execution_count": null,
   "id": "ff0a1f15-27a8-4eaa-bd8b-1b8a6a05c110",
   "metadata": {
    "is_executing": true
   },
   "outputs": [],
   "source": [
    "#importing the genelist\n",
    "df = pd.read_excel('data/27_genelist_02_06_22.xlsx', sheet_name=1, engine='openpyxl')"
   ]
  },
  {
   "cell_type": "code",
   "execution_count": null,
   "id": "c87c552c-09f7-4a4b-8f5d-5d2e782c3655",
   "metadata": {
    "is_executing": true
   },
   "outputs": [],
   "source": [
    "#printing the dataframe\n",
    "df"
   ]
  },
  {
   "cell_type": "code",
   "execution_count": null,
   "id": "70bd98e0-e392-4fe6-8fa9-ce85b78500c0",
   "metadata": {
    "is_executing": true
   },
   "outputs": [],
   "source": [
    "#getting the unique columns from the dataframe\n",
    "u_columns = df['UCSC_RefGene_Name'].unique()\n",
    "u_columns"
   ]
  },
  {
   "cell_type": "code",
   "execution_count": null,
   "id": "15a08cba-72d2-427b-a64b-9675152ab829",
   "metadata": {
    "is_executing": true
   },
   "outputs": [],
   "source": [
    "#total no of  gene\n",
    "len(u_columns)  #number of unique columns\n",
    "\n",
    "#value is 69 (matched with akash information)"
   ]
  },
  {
   "cell_type": "code",
   "execution_count": null,
   "id": "97343fb0-5877-418a-bfc7-1870de29ba29",
   "metadata": {
    "is_executing": true
   },
   "outputs": [],
   "source": [
    "cg_id = dict()\n",
    "all_cg_id = list()\n",
    "for col in u_columns:\n",
    "    result  = df.loc[df['UCSC_RefGene_Name'] == col,'ProbeID']\n",
    "    cg_id.update({col:list(result)})\n",
    "    all_cg_id = all_cg_id +list(result)\n",
    "\n",
    "#taking results as dictionary form ad display it\n",
    "print(cg_id)"
   ]
  },
  {
   "cell_type": "code",
   "execution_count": null,
   "id": "effae7e5-e54c-45b5-bd9a-c8b8f0243846",
   "metadata": {
    "is_executing": true
   },
   "outputs": [],
   "source": [
    "#All the CG_ID inner join of the two sheet\n",
    "\n",
    "print(all_cg_id)\n",
    "# lengths = [len(v) for v in cg_id.values()]\n",
    "# sum(lengths) 61 did not match with akash information\n",
    "len(all_cg_id)"
   ]
  },
  {
   "cell_type": "code",
   "execution_count": null,
   "id": "98c2cf01-497a-4d8a-b5c5-0c3f5665d4c4",
   "metadata": {
    "is_executing": true
   },
   "outputs": [],
   "source": [
    "#TCGA_PAAD_182_norm_beta data was in txt format. I have changed it , shifted the heading column by one. Rename the first column as ProbeID\n",
    "\n",
    "df3 = pd.read_csv(\"data/TCGA_PAAD_182_norm_beta.csv\")"
   ]
  },
  {
   "cell_type": "code",
   "execution_count": null,
   "outputs": [],
   "source": [
    "df3"
   ],
   "metadata": {
    "collapsed": false,
    "is_executing": true
   },
   "id": "f880ef70996fbd90"
  },
  {
   "cell_type": "code",
   "execution_count": null,
   "id": "31412b78-7732-4ce4-829c-3294934f4add",
   "metadata": {
    "is_executing": true
   },
   "outputs": [],
   "source": [
    "#dataframe related to clinical.tsv. I replaced - to underscore for the final matching\n",
    "df4 = pd.read_csv(\"data/clinical.tsv\", sep='\\t')\n",
    "df4['case_submitter_id'] = df4['case_submitter_id'].str.replace('-','_')\n",
    "#constructing another dataframe taking two columns from the dataframe\n",
    "df5= df4[[\"case_submitter_id\",\"days_to_death\"]]\n",
    "df5"
   ]
  },
  {
   "cell_type": "code",
   "execution_count": null,
   "id": "24bc23ae-d573-41f2-9e17-aebc3f76178b",
   "metadata": {
    "is_executing": true
   },
   "outputs": [],
   "source": [
    "#Save it to another excel\n",
    "writer = pd.ExcelWriter('data/cgid_dtd.xlsx', engine='xlsxwriter')\n",
    "df5.to_excel(writer, sheet_name='Sheet1', index=False)\n",
    "# Close the Pandas Excel writer and output the Excel file.\n",
    "writer"
   ]
  },
  {
   "cell_type": "code",
   "execution_count": null,
   "id": "d93f6ee1-ad2a-43db-84ef-588798474ef9",
   "metadata": {
    "is_executing": true
   },
   "outputs": [],
   "source": [
    "df6 = df3[df3['ProbeID'].isin(all_cg_id)]    "
   ]
  },
  {
   "cell_type": "code",
   "execution_count": null,
   "id": "cd80161e-8a3c-4d1e-88fa-c49b9f4317f3",
   "metadata": {
    "is_executing": true
   },
   "outputs": [],
   "source": [
    "df6"
   ]
  },
  {
   "cell_type": "code",
   "execution_count": null,
   "outputs": [],
   "source": [],
   "metadata": {
    "collapsed": false,
    "is_executing": true
   },
   "id": "b1442b0647c1e46b"
  },
  {
   "cell_type": "code",
   "execution_count": null,
   "outputs": [],
   "source": [
    "df_transposed = df6.T\n",
    "df_transposed"
   ],
   "metadata": {
    "collapsed": false,
    "is_executing": true
   },
   "id": "d16823e426892ecd"
  },
  {
   "cell_type": "code",
   "execution_count": null,
   "id": "6e49da8a-564d-48e8-8bc4-4076c9a17c38",
   "metadata": {
    "is_executing": true
   },
   "outputs": [],
   "source": [
    "writer = pd.ExcelWriter('data/135_dmp.xlsx', engine='xlsxwriter')\n",
    "df_transposed.to_excel(writer, sheet_name='Sheet1', index=False)\n",
    "# Close the Pandas Excel writer and output the Excel file.\n",
    "writer.close()"
   ]
  },
  {
   "cell_type": "code",
   "execution_count": null,
   "id": "2880ba21-6190-4d0d-9c0e-44feb0a979fc",
   "metadata": {
    "is_executing": true,
    "ExecuteTime": {
     "start_time": "2024-01-19T04:50:52.792692700Z"
    }
   },
   "outputs": [],
   "source": [
    "dfbigdata = pd.read_csv(\"E:/Akash Bararia/new2.tsv\")"
   ]
  },
  {
   "cell_type": "code",
   "execution_count": null,
   "outputs": [],
   "source": [],
   "metadata": {
    "collapsed": false
   }
  }
 ],
 "metadata": {
  "kernelspec": {
   "display_name": "Python 3 (ipykernel)",
   "language": "python",
   "name": "python3"
  },
  "language_info": {
   "codemirror_mode": {
    "name": "ipython",
    "version": 3
   },
   "file_extension": ".py",
   "mimetype": "text/x-python",
   "name": "python",
   "nbconvert_exporter": "python",
   "pygments_lexer": "ipython3",
   "version": "3.11.5"
  }
 },
 "nbformat": 4,
 "nbformat_minor": 5
}
